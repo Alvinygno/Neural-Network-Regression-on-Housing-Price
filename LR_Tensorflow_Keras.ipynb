{
  "nbformat": 4,
  "nbformat_minor": 0,
  "metadata": {
    "colab": {
      "provenance": [],
      "collapsed_sections": [
        "7K08nnBRblBE",
        "R9wOgIkycb9v"
      ]
    },
    "kernelspec": {
      "name": "python3",
      "display_name": "Python 3"
    },
    "language_info": {
      "name": "python"
    }
  },
  "cells": [
    {
      "cell_type": "markdown",
      "source": [
        "###Dataset"
      ],
      "metadata": {
        "id": "7K08nnBRblBE"
      }
    },
    {
      "cell_type": "markdown",
      "source": [
        "#####The datset is real estate industry in Boston (US). \n",
        "#####This database contains 14 attributes. \n",
        "#####The target variable refers to the median value of owner-occupied homes in 1000 USD's.\n",
        "\n",
        "* CRIM: per capita crime rate by town\n",
        "* ZN: proportion of residential land zoned for lots over 25,000 sq.ft.\n",
        "* INDUS: proportion of non-retail business acres per town\n",
        "* CHAS: Charles River dummy variable (= 1 if tract bounds river; 0 otherwise)\n",
        "* NOX: nitric oxides concentration (parts per 10 million)\n",
        "* RM: average number of rooms per dwelling\n",
        "* AGE: proportion of owner-occupied units built prior to 1940\n",
        "* DIS: weighted distances to five Boston employment centres\n",
        "* RAD: index of accessibility to radial highways\n",
        "* TAX: full-value property-tax rate per 10,000 USD\n",
        "* PTRATIO: pupil-teacher ratio by town\n",
        "* B: 1000(Bk - 0.63)^2 where Bk is the proportion of blacks by town\n",
        "* LSTAT: lower status of the population (%)\n",
        "* MEDV: Median value of owner-occupied homes in 1000 USD's (Target)"
      ],
      "metadata": {
        "id": "4cWdk8TPbswn"
      }
    },
    {
      "cell_type": "markdown",
      "source": [
        "###Objective\n"
      ],
      "metadata": {
        "id": "R9wOgIkycb9v"
      }
    },
    {
      "cell_type": "markdown",
      "source": [
        "#####The objective in this exercise is to apply linear regression to find the median value of owner-occupied homes in 1000 USD's.\n",
        "\n",
        "We will build a Machine learning model (i.e. Linear Regression) using tensorflow.keras (in short tf.keras) API."
      ],
      "metadata": {
        "id": "JDMQ7EAWgOoL"
      }
    },
    {
      "cell_type": "markdown",
      "source": [
        "###Loading library"
      ],
      "metadata": {
        "id": "XdTGh2oHc9q3"
      }
    },
    {
      "cell_type": "code",
      "source": [
        "import numpy as py   #to perform calculation\n",
        "import pandas as pd  #to read data\n",
        "import matplotlib.pyplot as plt   #to visualize \n",
        "from sklearn.model_selection import train_test_split\n",
        "from sklearn.preprocessing import StandardScaler"
      ],
      "metadata": {
        "id": "XOefetRxcyUZ"
      },
      "execution_count": 1,
      "outputs": []
    },
    {
      "cell_type": "markdown",
      "source": [
        "###Loading Data"
      ],
      "metadata": {
        "id": "dp8x7xjwdnNd"
      }
    },
    {
      "cell_type": "code",
      "source": [
        "boston = pd.read_csv(\"https://raw.githubusercontent.com/dphi-official/Datasets/master/Boston_Housing/Training_set_boston.csv\")"
      ],
      "metadata": {
        "id": "x7V4LmK3e0JF"
      },
      "execution_count": 2,
      "outputs": []
    },
    {
      "cell_type": "markdown",
      "source": [
        "###View Data"
      ],
      "metadata": {
        "id": "OZmdAAbZgwzu"
      }
    },
    {
      "cell_type": "code",
      "source": [
        "#To view the first 5 rows \n",
        "boston.head()"
      ],
      "metadata": {
        "colab": {
          "base_uri": "https://localhost:8080/",
          "height": 206
        },
        "id": "yQ_1r71kg1wG",
        "outputId": "275d8b46-2b5b-4c3f-d4fd-055d1fc2be2b"
      },
      "execution_count": 3,
      "outputs": [
        {
          "output_type": "execute_result",
          "data": {
            "text/plain": [
              "       CRIM    ZN  INDUS  CHAS     NOX     RM   AGE     DIS   RAD    TAX  \\\n",
              "0  15.02340   0.0  18.10   0.0  0.6140  5.304  97.3  2.1007  24.0  666.0   \n",
              "1   0.62739   0.0   8.14   0.0  0.5380  5.834  56.5  4.4986   4.0  307.0   \n",
              "2   0.03466  35.0   6.06   0.0  0.4379  6.031  23.3  6.6407   1.0  304.0   \n",
              "3   7.05042   0.0  18.10   0.0  0.6140  6.103  85.1  2.0218  24.0  666.0   \n",
              "4   0.72580   0.0   8.14   0.0  0.5380  5.727  69.5  3.7965   4.0  307.0   \n",
              "\n",
              "   PTRATIO       B  LSTAT  MEDV  \n",
              "0     20.2  349.48  24.91  12.0  \n",
              "1     21.0  395.62   8.47  19.9  \n",
              "2     16.9  362.25   7.83  19.4  \n",
              "3     20.2    2.52  23.29  13.4  \n",
              "4     21.0  390.95  11.28  18.2  "
            ],
            "text/html": [
              "\n",
              "  <div id=\"df-a63c2ab7-8b8d-422b-bf86-9182dd871044\">\n",
              "    <div class=\"colab-df-container\">\n",
              "      <div>\n",
              "<style scoped>\n",
              "    .dataframe tbody tr th:only-of-type {\n",
              "        vertical-align: middle;\n",
              "    }\n",
              "\n",
              "    .dataframe tbody tr th {\n",
              "        vertical-align: top;\n",
              "    }\n",
              "\n",
              "    .dataframe thead th {\n",
              "        text-align: right;\n",
              "    }\n",
              "</style>\n",
              "<table border=\"1\" class=\"dataframe\">\n",
              "  <thead>\n",
              "    <tr style=\"text-align: right;\">\n",
              "      <th></th>\n",
              "      <th>CRIM</th>\n",
              "      <th>ZN</th>\n",
              "      <th>INDUS</th>\n",
              "      <th>CHAS</th>\n",
              "      <th>NOX</th>\n",
              "      <th>RM</th>\n",
              "      <th>AGE</th>\n",
              "      <th>DIS</th>\n",
              "      <th>RAD</th>\n",
              "      <th>TAX</th>\n",
              "      <th>PTRATIO</th>\n",
              "      <th>B</th>\n",
              "      <th>LSTAT</th>\n",
              "      <th>MEDV</th>\n",
              "    </tr>\n",
              "  </thead>\n",
              "  <tbody>\n",
              "    <tr>\n",
              "      <th>0</th>\n",
              "      <td>15.02340</td>\n",
              "      <td>0.0</td>\n",
              "      <td>18.10</td>\n",
              "      <td>0.0</td>\n",
              "      <td>0.6140</td>\n",
              "      <td>5.304</td>\n",
              "      <td>97.3</td>\n",
              "      <td>2.1007</td>\n",
              "      <td>24.0</td>\n",
              "      <td>666.0</td>\n",
              "      <td>20.2</td>\n",
              "      <td>349.48</td>\n",
              "      <td>24.91</td>\n",
              "      <td>12.0</td>\n",
              "    </tr>\n",
              "    <tr>\n",
              "      <th>1</th>\n",
              "      <td>0.62739</td>\n",
              "      <td>0.0</td>\n",
              "      <td>8.14</td>\n",
              "      <td>0.0</td>\n",
              "      <td>0.5380</td>\n",
              "      <td>5.834</td>\n",
              "      <td>56.5</td>\n",
              "      <td>4.4986</td>\n",
              "      <td>4.0</td>\n",
              "      <td>307.0</td>\n",
              "      <td>21.0</td>\n",
              "      <td>395.62</td>\n",
              "      <td>8.47</td>\n",
              "      <td>19.9</td>\n",
              "    </tr>\n",
              "    <tr>\n",
              "      <th>2</th>\n",
              "      <td>0.03466</td>\n",
              "      <td>35.0</td>\n",
              "      <td>6.06</td>\n",
              "      <td>0.0</td>\n",
              "      <td>0.4379</td>\n",
              "      <td>6.031</td>\n",
              "      <td>23.3</td>\n",
              "      <td>6.6407</td>\n",
              "      <td>1.0</td>\n",
              "      <td>304.0</td>\n",
              "      <td>16.9</td>\n",
              "      <td>362.25</td>\n",
              "      <td>7.83</td>\n",
              "      <td>19.4</td>\n",
              "    </tr>\n",
              "    <tr>\n",
              "      <th>3</th>\n",
              "      <td>7.05042</td>\n",
              "      <td>0.0</td>\n",
              "      <td>18.10</td>\n",
              "      <td>0.0</td>\n",
              "      <td>0.6140</td>\n",
              "      <td>6.103</td>\n",
              "      <td>85.1</td>\n",
              "      <td>2.0218</td>\n",
              "      <td>24.0</td>\n",
              "      <td>666.0</td>\n",
              "      <td>20.2</td>\n",
              "      <td>2.52</td>\n",
              "      <td>23.29</td>\n",
              "      <td>13.4</td>\n",
              "    </tr>\n",
              "    <tr>\n",
              "      <th>4</th>\n",
              "      <td>0.72580</td>\n",
              "      <td>0.0</td>\n",
              "      <td>8.14</td>\n",
              "      <td>0.0</td>\n",
              "      <td>0.5380</td>\n",
              "      <td>5.727</td>\n",
              "      <td>69.5</td>\n",
              "      <td>3.7965</td>\n",
              "      <td>4.0</td>\n",
              "      <td>307.0</td>\n",
              "      <td>21.0</td>\n",
              "      <td>390.95</td>\n",
              "      <td>11.28</td>\n",
              "      <td>18.2</td>\n",
              "    </tr>\n",
              "  </tbody>\n",
              "</table>\n",
              "</div>\n",
              "      <button class=\"colab-df-convert\" onclick=\"convertToInteractive('df-a63c2ab7-8b8d-422b-bf86-9182dd871044')\"\n",
              "              title=\"Convert this dataframe to an interactive table.\"\n",
              "              style=\"display:none;\">\n",
              "        \n",
              "  <svg xmlns=\"http://www.w3.org/2000/svg\" height=\"24px\"viewBox=\"0 0 24 24\"\n",
              "       width=\"24px\">\n",
              "    <path d=\"M0 0h24v24H0V0z\" fill=\"none\"/>\n",
              "    <path d=\"M18.56 5.44l.94 2.06.94-2.06 2.06-.94-2.06-.94-.94-2.06-.94 2.06-2.06.94zm-11 1L8.5 8.5l.94-2.06 2.06-.94-2.06-.94L8.5 2.5l-.94 2.06-2.06.94zm10 10l.94 2.06.94-2.06 2.06-.94-2.06-.94-.94-2.06-.94 2.06-2.06.94z\"/><path d=\"M17.41 7.96l-1.37-1.37c-.4-.4-.92-.59-1.43-.59-.52 0-1.04.2-1.43.59L10.3 9.45l-7.72 7.72c-.78.78-.78 2.05 0 2.83L4 21.41c.39.39.9.59 1.41.59.51 0 1.02-.2 1.41-.59l7.78-7.78 2.81-2.81c.8-.78.8-2.07 0-2.86zM5.41 20L4 18.59l7.72-7.72 1.47 1.35L5.41 20z\"/>\n",
              "  </svg>\n",
              "      </button>\n",
              "      \n",
              "  <style>\n",
              "    .colab-df-container {\n",
              "      display:flex;\n",
              "      flex-wrap:wrap;\n",
              "      gap: 12px;\n",
              "    }\n",
              "\n",
              "    .colab-df-convert {\n",
              "      background-color: #E8F0FE;\n",
              "      border: none;\n",
              "      border-radius: 50%;\n",
              "      cursor: pointer;\n",
              "      display: none;\n",
              "      fill: #1967D2;\n",
              "      height: 32px;\n",
              "      padding: 0 0 0 0;\n",
              "      width: 32px;\n",
              "    }\n",
              "\n",
              "    .colab-df-convert:hover {\n",
              "      background-color: #E2EBFA;\n",
              "      box-shadow: 0px 1px 2px rgba(60, 64, 67, 0.3), 0px 1px 3px 1px rgba(60, 64, 67, 0.15);\n",
              "      fill: #174EA6;\n",
              "    }\n",
              "\n",
              "    [theme=dark] .colab-df-convert {\n",
              "      background-color: #3B4455;\n",
              "      fill: #D2E3FC;\n",
              "    }\n",
              "\n",
              "    [theme=dark] .colab-df-convert:hover {\n",
              "      background-color: #434B5C;\n",
              "      box-shadow: 0px 1px 3px 1px rgba(0, 0, 0, 0.15);\n",
              "      filter: drop-shadow(0px 1px 2px rgba(0, 0, 0, 0.3));\n",
              "      fill: #FFFFFF;\n",
              "    }\n",
              "  </style>\n",
              "\n",
              "      <script>\n",
              "        const buttonEl =\n",
              "          document.querySelector('#df-a63c2ab7-8b8d-422b-bf86-9182dd871044 button.colab-df-convert');\n",
              "        buttonEl.style.display =\n",
              "          google.colab.kernel.accessAllowed ? 'block' : 'none';\n",
              "\n",
              "        async function convertToInteractive(key) {\n",
              "          const element = document.querySelector('#df-a63c2ab7-8b8d-422b-bf86-9182dd871044');\n",
              "          const dataTable =\n",
              "            await google.colab.kernel.invokeFunction('convertToInteractive',\n",
              "                                                     [key], {});\n",
              "          if (!dataTable) return;\n",
              "\n",
              "          const docLinkHtml = 'Like what you see? Visit the ' +\n",
              "            '<a target=\"_blank\" href=https://colab.research.google.com/notebooks/data_table.ipynb>data table notebook</a>'\n",
              "            + ' to learn more about interactive tables.';\n",
              "          element.innerHTML = '';\n",
              "          dataTable['output_type'] = 'display_data';\n",
              "          await google.colab.output.renderOutput(dataTable, element);\n",
              "          const docLink = document.createElement('div');\n",
              "          docLink.innerHTML = docLinkHtml;\n",
              "          element.appendChild(docLink);\n",
              "        }\n",
              "      </script>\n",
              "    </div>\n",
              "  </div>\n",
              "  "
            ]
          },
          "metadata": {},
          "execution_count": 3
        }
      ]
    },
    {
      "cell_type": "code",
      "source": [
        "#Number of rows & columns of the dataset\n",
        "print(\"Number of row for this dataset is: \", boston.shape[0])\n",
        "print(\"Number of column for this dataset is: \", boston.shape[1])"
      ],
      "metadata": {
        "colab": {
          "base_uri": "https://localhost:8080/"
        },
        "id": "bfMSsnJyhayr",
        "outputId": "52d3dcff-c3c2-4396-c20f-a4365d5f0f06"
      },
      "execution_count": 4,
      "outputs": [
        {
          "output_type": "stream",
          "name": "stdout",
          "text": [
            "Number of row for this dataset is:  404\n",
            "Number of column for this dataset is:  14\n"
          ]
        }
      ]
    },
    {
      "cell_type": "markdown",
      "source": [
        "###Determine the Input & Target variables"
      ],
      "metadata": {
        "id": "xksZdEjZg8Y1"
      }
    },
    {
      "cell_type": "code",
      "source": [
        "X = boston.drop(\"MEDV\", axis=1)\n",
        "y = boston.MEDV"
      ],
      "metadata": {
        "id": "PAPErnL3hLks"
      },
      "execution_count": 5,
      "outputs": []
    },
    {
      "cell_type": "code",
      "source": [
        "#State the number of input variable column\n",
        "num_input = X.shape[1]\n",
        "print(num_input)"
      ],
      "metadata": {
        "colab": {
          "base_uri": "https://localhost:8080/"
        },
        "id": "5_cx3DQbkojP",
        "outputId": "d2e09c63-0f85-49e4-b192-125ba48ffc07"
      },
      "execution_count": 6,
      "outputs": [
        {
          "output_type": "stream",
          "name": "stdout",
          "text": [
            "13\n"
          ]
        }
      ]
    },
    {
      "cell_type": "code",
      "source": [
        "#View all input columns name\n",
        "X.columns"
      ],
      "metadata": {
        "colab": {
          "base_uri": "https://localhost:8080/"
        },
        "id": "1fQCpxLHlDGm",
        "outputId": "e2dd9991-922e-4e33-e1fa-2c26a818b93a"
      },
      "execution_count": 7,
      "outputs": [
        {
          "output_type": "execute_result",
          "data": {
            "text/plain": [
              "Index(['CRIM', 'ZN', 'INDUS', 'CHAS', 'NOX', 'RM', 'AGE', 'DIS', 'RAD', 'TAX',\n",
              "       'PTRATIO', 'B', 'LSTAT'],\n",
              "      dtype='object')"
            ]
          },
          "metadata": {},
          "execution_count": 7
        }
      ]
    },
    {
      "cell_type": "markdown",
      "source": [
        "###Spliting Training and Testing (Validation) Dataset"
      ],
      "metadata": {
        "id": "Jh-UTi3ZiWm7"
      }
    },
    {
      "cell_type": "code",
      "source": [
        "#Spliting training & testing dataset (validation) into 80:20\n",
        "X_train_un, X_test_un, y_train, y_test = train_test_split(X, y, test_size=0.2, random_state=42)"
      ],
      "metadata": {
        "id": "KKqCgQcpih9f"
      },
      "execution_count": 8,
      "outputs": []
    },
    {
      "cell_type": "code",
      "source": [
        "#View number of training & testing (validation) row\n",
        "print(\"Number of training set - \", X_train_un.shape[0])\n",
        "print(\"Number of testing set - \", X_test_un.shape[0])"
      ],
      "metadata": {
        "colab": {
          "base_uri": "https://localhost:8080/"
        },
        "id": "a4L9da6ujMOe",
        "outputId": "069cf4e4-04a6-48f8-daa9-9f92661a290c"
      },
      "execution_count": 9,
      "outputs": [
        {
          "output_type": "stream",
          "name": "stdout",
          "text": [
            "Number of training set -  323\n",
            "Number of testing set -  81\n"
          ]
        }
      ]
    },
    {
      "cell_type": "markdown",
      "source": [
        "###Data Cleaning"
      ],
      "metadata": {
        "id": "KEyY1fF-yViQ"
      }
    },
    {
      "cell_type": "code",
      "source": [
        "scaler = StandardScaler()\n",
        "#scaler.fit(X_train_un)\n",
        "\n",
        "X_train = scaler.fit_transform(X_train_un)  #fit_transform: the model will learn the features of the training set. These learned parameters are then applied to test data\n",
        "X_test = scaler.transform(X_test_un)  #fit: use the same data cleaning methods from training data to transform our test data. We don't want our model learn from test data as we want the test data to unknown to the model. "
      ],
      "metadata": {
        "id": "iyo5E9z7ybDD"
      },
      "execution_count": 10,
      "outputs": []
    },
    {
      "cell_type": "markdown",
      "source": [
        "###Model Training"
      ],
      "metadata": {
        "id": "Mr49DetCl6TO"
      }
    },
    {
      "cell_type": "code",
      "source": [
        "#Import library for neural network using tensorflow \n",
        "import tensorflow\n",
        "from tensorflow.keras import Sequential\n",
        "from tensorflow.keras.layers import Dense\n",
        "from numpy.random import seed"
      ],
      "metadata": {
        "id": "12ET8FM3qcQn"
      },
      "execution_count": 11,
      "outputs": []
    },
    {
      "cell_type": "code",
      "source": [
        "#Define model\n",
        "model = Sequential()\n",
        "model.add(Dense(10, activation='relu', input_shape=(num_input,)))   #rectified linear unit\n",
        "model.add(Dense(8, activation='relu'))\n",
        "model.add(Dense(1))"
      ],
      "metadata": {
        "id": "3q7ld1b9vy_O"
      },
      "execution_count": 12,
      "outputs": []
    },
    {
      "cell_type": "markdown",
      "source": [
        "#####Models can be defined either with the Sequential API or the Functional API (you will know this in later modules). Here we will define the model with Sequential API.\n",
        "\n",
        "Sequential API The sequential API is the simplest API to get started with Deep Learning.\n",
        "\n",
        "Our model accepts one input, has one hidden layer with 1 node and then an output layer with one node to predict a numerical value."
      ],
      "metadata": {
        "id": "nNPc9rG_xOV4"
      }
    },
    {
      "cell_type": "code",
      "source": [
        "#Compiling model\n",
        "from tensorflow.keras.optimizers import RMSprop\n",
        "optimizer = RMSprop(0.01)  #0.01 is our learning rate"
      ],
      "metadata": {
        "id": "QekweDgwwaQI"
      },
      "execution_count": 13,
      "outputs": []
    },
    {
      "cell_type": "code",
      "source": [
        "model.compile(loss='mean_squared_error', optimizer=optimizer)"
      ],
      "metadata": {
        "id": "TS4Wk0MayZ6R"
      },
      "execution_count": 14,
      "outputs": []
    },
    {
      "cell_type": "markdown",
      "source": [
        "#####Compiling model needs 3 parameters:\n",
        "* Loss function: mean square error or cross-entropy\n",
        "* Optimizer: RMSprop (Root Mean Square Propagation)\n",
        "* Learning rate: ranging from 10−6 to 1.0\n",
        "\n",
        "We only can determine the optimal learning rate through trial and error. \n",
        "\n",
        "A traditional default value for the learning rate is 0.1 or 0.01, and this may represent a good starting point on your problem."
      ],
      "metadata": {
        "id": "CJATpfmPyRf4"
      }
    },
    {
      "cell_type": "code",
      "source": [
        "#Fitting model \n",
        "seed_value = 42   #to get reproducible results\n",
        "\n",
        "tensorflow.random.set_seed(seed_value)\n",
        "model.fit(X_train, y_train, epochs=10, batch_size=30, verbose=1)"
      ],
      "metadata": {
        "colab": {
          "base_uri": "https://localhost:8080/"
        },
        "id": "S4sEnlCNzo9Y",
        "outputId": "c6ba5b91-ac58-4d08-9ab3-b95c90f6442c"
      },
      "execution_count": 15,
      "outputs": [
        {
          "output_type": "stream",
          "name": "stdout",
          "text": [
            "Epoch 1/10\n",
            "11/11 [==============================] - 1s 3ms/step - loss: 442.8728\n",
            "Epoch 2/10\n",
            "11/11 [==============================] - 0s 2ms/step - loss: 177.4786\n",
            "Epoch 3/10\n",
            "11/11 [==============================] - 0s 3ms/step - loss: 50.8123\n",
            "Epoch 4/10\n",
            "11/11 [==============================] - 0s 3ms/step - loss: 31.6905\n",
            "Epoch 5/10\n",
            "11/11 [==============================] - 0s 3ms/step - loss: 24.4265\n",
            "Epoch 6/10\n",
            "11/11 [==============================] - 0s 3ms/step - loss: 22.5393\n",
            "Epoch 7/10\n",
            "11/11 [==============================] - 0s 3ms/step - loss: 20.1669\n",
            "Epoch 8/10\n",
            "11/11 [==============================] - 0s 2ms/step - loss: 18.1768\n",
            "Epoch 9/10\n",
            "11/11 [==============================] - 0s 3ms/step - loss: 16.6810\n",
            "Epoch 10/10\n",
            "11/11 [==============================] - 0s 3ms/step - loss: 15.7165\n"
          ]
        },
        {
          "output_type": "execute_result",
          "data": {
            "text/plain": [
              "<keras.callbacks.History at 0x7f52a512b750>"
            ]
          },
          "metadata": {},
          "execution_count": 15
        }
      ]
    },
    {
      "cell_type": "markdown",
      "source": [
        "* Epochs: #loops through the training dataset\n",
        "* Batch size: #samples in an epoch used to estimate model error\n",
        "* Verbose: range 0, 1 or 2 , to view the training progress for each epoch\n",
        "\n",
        "verbose=0 will show you nothing (silent)\n",
        "\n",
        "verbose=1 will show you an animated progress bar\n",
        "\n",
        "verbose=2 will just mention the number of epoch"
      ],
      "metadata": {
        "id": "voUg7k310SOQ"
      }
    },
    {
      "cell_type": "code",
      "source": [
        "#Evaluating model\n",
        "mse = model.evaluate(X_test, y_test)"
      ],
      "metadata": {
        "colab": {
          "base_uri": "https://localhost:8080/"
        },
        "id": "HArexMq022vt",
        "outputId": "ec96007d-00ea-4488-d470-d218d094f94f"
      },
      "execution_count": 16,
      "outputs": [
        {
          "output_type": "stream",
          "name": "stdout",
          "text": [
            "3/3 [==============================] - 0s 4ms/step - loss: 19.2147\n"
          ]
        }
      ]
    },
    {
      "cell_type": "code",
      "source": [
        "print('MSE without tuning: {}'.format(mse))"
      ],
      "metadata": {
        "colab": {
          "base_uri": "https://localhost:8080/"
        },
        "id": "5asCi4rlolc_",
        "outputId": "9c480416-5746-421d-d913-2f46b5137a35"
      },
      "execution_count": 17,
      "outputs": [
        {
          "output_type": "stream",
          "name": "stdout",
          "text": [
            "MSE without tuning: 19.21466827392578\n"
          ]
        }
      ]
    },
    {
      "cell_type": "markdown",
      "source": [
        "#####Evaluating the model requires that you first choose a holdout dataset used to evaluate the model. This should be data not used in the training process i.e. the X_test.\n",
        "\n",
        "Our model tells us the mean squared error is 19.21. What does it mean?\n",
        "When you subtract the predicted values (of X_test data) from the acutal value (of X_test data), then square it and sum all the squares, and finally take a mean (i.e. average) of it, the result you will get is 19.21 in this case."
      ],
      "metadata": {
        "id": "W2Bde7E53AJG"
      }
    },
    {
      "cell_type": "code",
      "source": [
        "#Model prediction\n",
        "#model.predict(X_test)"
      ],
      "metadata": {
        "id": "wlpwxkKd3rPS"
      },
      "execution_count": 18,
      "outputs": []
    },
    {
      "cell_type": "markdown",
      "source": [
        "#####By using this model, it predict the median housing price in 1000USD for each house configuration is as above via linear regression using tensor flow. "
      ],
      "metadata": {
        "id": "_GlivDi33wON"
      }
    },
    {
      "cell_type": "markdown",
      "source": [
        "###Model Tunning"
      ],
      "metadata": {
        "id": "Kk5kcfCP4Vq7"
      }
    },
    {
      "cell_type": "markdown",
      "source": [
        "##### 3 hyperparameters allow us to tune:\n",
        "* Learning Rate: Key hyperparameter\n",
        "* Epochs\n",
        "* Batch Size\n",
        "\n",
        "A scalar used to train a model via gradient descent. During each iteration, the gradient descent algorithm multiplies the learning rate by the gradient. The resulting product is called the gradient step.\n",
        "\n",
        "We will automate hyperparameter tuning using Random Search and Keras. Random Search is a hyperparameter search procedure that is performed on a defined grid of hyperparameters.\n",
        "\n",
        "Random Search is a hyperparameter search procedure that is performed on a defined grid of hyperparameters. However, not all hyperparameter combinations are used to train a new model, only some selected randomly, while a process of cross-validation to measure the performance of temporal models. Once the process is complete, the hyperparameters and the best performing model are chosen.\n",
        "\n",
        "Keras-turner is used to execute the hyperparameter tuning procedure. It is a library that helps you pick the optimal set of hyperparameters for your TensorFlow model."
      ],
      "metadata": {
        "id": "xRluKGWM4jav"
      }
    },
    {
      "cell_type": "code",
      "source": [
        "#Install and import library\n",
        "!pip install keras-tuner -q\n",
        "import kerastuner as kt"
      ],
      "metadata": {
        "colab": {
          "base_uri": "https://localhost:8080/"
        },
        "id": "_FVbx0ynHWhi",
        "outputId": "91365504-0c7a-46f6-f423-7d4053f68f93"
      },
      "execution_count": 19,
      "outputs": [
        {
          "output_type": "stream",
          "name": "stderr",
          "text": [
            "/usr/local/lib/python3.7/dist-packages/ipykernel_launcher.py:3: DeprecationWarning: `import kerastuner` is deprecated, please use `import keras_tuner`.\n",
            "  This is separate from the ipykernel package so we can avoid doing imports until\n"
          ]
        }
      ]
    },
    {
      "cell_type": "code",
      "source": [
        "#Define a general architecture of model using user-defined function\n",
        "def model_builder(hp):\n",
        "  model = Sequential()\n",
        "  model.add(Dense(10, activation='relu', input_shape=(num_input,)))\n",
        "  model.add(Dense(8, activation='relu'))\n",
        "  model.add(Dense(1))\n",
        "  hp_learning_rate = hp.Choice('learning_rate', values = [1e-1, 1e-2, 1e-3, 1e-4]) # Tuning the learning rate (four different values to test: 0.1, 0.01, 0.001, 0.0001) #hp is an alias for Keras Tuner’s HyperParameters class\n",
        "  optimizer = RMSprop(learning_rate = hp_learning_rate)                            # Defining the optimizer\n",
        "  model.compile(loss='mse',metrics=['mse'], optimizer=optimizer)                   # Compiling the model \n",
        "  return model                                                                     # Returning the defined model"
      ],
      "metadata": {
        "id": "wx-V-AtXHgwI"
      },
      "execution_count": 20,
      "outputs": []
    },
    {
      "cell_type": "code",
      "source": [
        "#Define hypeparameter grid to be validated\n",
        "tuner_rs = kt.RandomSearch(\n",
        "              model_builder,                # Takes hyperparameters (hp) and returns a Model instance\n",
        "              objective = 'mse',            # Name of model metric to minimize or maximize\n",
        "              seed = 42,                    # Random seed for replication purposes\n",
        "              max_trials = 5,               # Total number of trials (model configurations) to test at most. Note that the oracle may interrupt the search before max_trial models have been tested.\n",
        "              directory='random_search')    # Path to the working directory (relative)"
      ],
      "metadata": {
        "id": "u3UlmlVfIkle"
      },
      "execution_count": 21,
      "outputs": []
    },
    {
      "cell_type": "code",
      "source": [
        "#Run the random search using the search method\n",
        "tuner_rs.search(X_train, y_train, epochs=10, validation_split=0.2, verbose=1)"
      ],
      "metadata": {
        "id": "Dx_tJfv7I6zp"
      },
      "execution_count": 22,
      "outputs": []
    },
    {
      "cell_type": "code",
      "source": [
        "#Print the summary results of the hyperparameter tuning procedure\n",
        "tuner_rs.results_summary()"
      ],
      "metadata": {
        "colab": {
          "base_uri": "https://localhost:8080/"
        },
        "id": "TrC0q1JxKEvS",
        "outputId": "fd0ac7aa-7117-42ad-a19e-f978e3ce3679"
      },
      "execution_count": 23,
      "outputs": [
        {
          "output_type": "stream",
          "name": "stdout",
          "text": [
            "Results summary\n",
            "Results in random_search/untitled_project\n",
            "Showing 10 best trials\n",
            "<keras_tuner.engine.objective.Objective object at 0x7f52a26570d0>\n",
            "Trial summary\n",
            "Hyperparameters:\n",
            "learning_rate: 0.01\n",
            "Score: 79.75146484375\n",
            "Trial summary\n",
            "Hyperparameters:\n",
            "learning_rate: 0.1\n",
            "Score: 103.4114761352539\n",
            "Trial summary\n",
            "Hyperparameters:\n",
            "learning_rate: 0.0001\n",
            "Score: 249.3369140625\n",
            "Trial summary\n",
            "Hyperparameters:\n",
            "learning_rate: 0.001\n",
            "Score: 277.0947265625\n"
          ]
        }
      ]
    },
    {
      "cell_type": "code",
      "source": [
        "#Print the results of the tuned model the tuner had tried & evaluate\n",
        "model_tuned = tuner_rs.get_best_models(num_models=1)[0]\n",
        "mse_tuned = model_tuned.evaluate(X_test, y_test)"
      ],
      "metadata": {
        "colab": {
          "base_uri": "https://localhost:8080/"
        },
        "id": "XskYZPaGKVnj",
        "outputId": "53cf89f2-f742-4cf8-ccbb-97606c517a12"
      },
      "execution_count": 24,
      "outputs": [
        {
          "output_type": "stream",
          "name": "stdout",
          "text": [
            "3/3 [==============================] - 0s 6ms/step - loss: 601.8433 - mse: 601.8433\n"
          ]
        }
      ]
    },
    {
      "cell_type": "code",
      "source": [
        "print('MSE with tuning: {}'.format(mse_tuned))"
      ],
      "metadata": {
        "colab": {
          "base_uri": "https://localhost:8080/"
        },
        "id": "qJf8wHuvo1bc",
        "outputId": "330d738f-7a5e-4efb-b185-cb54b2f73989"
      },
      "execution_count": 25,
      "outputs": [
        {
          "output_type": "stream",
          "name": "stdout",
          "text": [
            "MSE with tuning: [601.84326171875, 601.84326171875]\n"
          ]
        }
      ]
    },
    {
      "cell_type": "code",
      "source": [
        "#Print the tuned model's architecture\n",
        "model_tuned.summary()"
      ],
      "metadata": {
        "colab": {
          "base_uri": "https://localhost:8080/"
        },
        "id": "ulOyxYmxKgDF",
        "outputId": "ddc50232-9574-45b1-b758-8bbcfc67b532"
      },
      "execution_count": 26,
      "outputs": [
        {
          "output_type": "stream",
          "name": "stdout",
          "text": [
            "Model: \"sequential\"\n",
            "_________________________________________________________________\n",
            " Layer (type)                Output Shape              Param #   \n",
            "=================================================================\n",
            " dense (Dense)               (None, 10)                140       \n",
            "                                                                 \n",
            " dense_1 (Dense)             (None, 8)                 88        \n",
            "                                                                 \n",
            " dense_2 (Dense)             (None, 1)                 9         \n",
            "                                                                 \n",
            "=================================================================\n",
            "Total params: 237\n",
            "Trainable params: 237\n",
            "Non-trainable params: 0\n",
            "_________________________________________________________________\n"
          ]
        }
      ]
    },
    {
      "cell_type": "markdown",
      "source": [
        "###Best model"
      ],
      "metadata": {
        "id": "GfpKHsPxR0Lp"
      }
    },
    {
      "cell_type": "markdown",
      "source": [
        "#####The best model is the untuned neural network with mean squared error of 25.03."
      ],
      "metadata": {
        "id": "XLLYyTwaR3_4"
      }
    },
    {
      "cell_type": "markdown",
      "source": [
        "###Model prediction\n"
      ],
      "metadata": {
        "id": "YbjPwZ3nKnHe"
      }
    },
    {
      "cell_type": "markdown",
      "source": [
        "#####It requires you have new data for which a prediction is required, e.g. where you do not have the target values.\n",
        "\n",
        "From an API perspective, you simply call a function to make a prediction of a class label, probability, or numerical value: whatever you designed your model to predict.\n",
        "\n",
        "We have our new test data located at the given github location:\n",
        "\n",
        "https://raw.githubusercontent.com/dphi-official/Datasets/master/Boston_Housing/Testing_set_boston.csv"
      ],
      "metadata": {
        "id": "a0Gg1pTXKyKF"
      }
    },
    {
      "cell_type": "code",
      "source": [
        "#Load new test data\n",
        "new_test_data = pd.read_csv('https://raw.githubusercontent.com/dphi-official/Datasets/master/Boston_Housing/Testing_set_boston.csv')"
      ],
      "metadata": {
        "id": "Y3Fa2FVULBHP"
      },
      "execution_count": 27,
      "outputs": []
    },
    {
      "cell_type": "code",
      "source": [
        "# make a prediction\n",
        "model.predict(new_test_data)"
      ],
      "metadata": {
        "colab": {
          "base_uri": "https://localhost:8080/"
        },
        "id": "2qlWTIopLIli",
        "outputId": "e072e246-11ba-47be-9947-e04a2a94b2dd"
      },
      "execution_count": 28,
      "outputs": [
        {
          "output_type": "stream",
          "name": "stdout",
          "text": [
            "4/4 [==============================] - 0s 6ms/step\n"
          ]
        },
        {
          "output_type": "execute_result",
          "data": {
            "text/plain": [
              "array([[1670.8047],\n",
              "       [1683.7003],\n",
              "       [2412.1733],\n",
              "       [1816.8334],\n",
              "       [2263.1577],\n",
              "       [1618.4404],\n",
              "       [1592.7236],\n",
              "       [1704.731 ],\n",
              "       [2291.4988],\n",
              "       [1666.6761],\n",
              "       [1619.9502],\n",
              "       [1523.4867],\n",
              "       [1820.6334],\n",
              "       [1669.7302],\n",
              "       [1643.719 ],\n",
              "       [2273.4504],\n",
              "       [1551.9165],\n",
              "       [2168.1052],\n",
              "       [1556.1239],\n",
              "       [2258.276 ],\n",
              "       [1786.6687],\n",
              "       [1666.9539],\n",
              "       [1398.2715],\n",
              "       [1683.9121],\n",
              "       [2219.8167],\n",
              "       [2227.6265],\n",
              "       [1759.2947],\n",
              "       [1941.2373],\n",
              "       [1601.1027],\n",
              "       [1674.981 ],\n",
              "       [1639.8813],\n",
              "       [1747.4865],\n",
              "       [2254.9575],\n",
              "       [2301.638 ],\n",
              "       [2206.8506],\n",
              "       [1415.5776],\n",
              "       [1746.8546],\n",
              "       [1768.758 ],\n",
              "       [1626.1367],\n",
              "       [1741.1818],\n",
              "       [1631.3223],\n",
              "       [1616.5911],\n",
              "       [1500.9866],\n",
              "       [1684.5378],\n",
              "       [1704.5417],\n",
              "       [2269.1848],\n",
              "       [1415.6134],\n",
              "       [1778.8352],\n",
              "       [2272.3093],\n",
              "       [1677.2786],\n",
              "       [1600.8029],\n",
              "       [1736.048 ],\n",
              "       [1593.464 ],\n",
              "       [1699.1602],\n",
              "       [1690.0083],\n",
              "       [2277.9707],\n",
              "       [2277.6047],\n",
              "       [1559.9661],\n",
              "       [1767.0874],\n",
              "       [1510.4838],\n",
              "       [1649.4802],\n",
              "       [1525.7349],\n",
              "       [1746.084 ],\n",
              "       [1225.0776],\n",
              "       [1449.8201],\n",
              "       [1572.6533],\n",
              "       [2264.1125],\n",
              "       [1706.9828],\n",
              "       [1574.9485],\n",
              "       [1954.6604],\n",
              "       [1782.7106],\n",
              "       [2302.2275],\n",
              "       [2101.2864],\n",
              "       [1435.8883],\n",
              "       [1700.159 ],\n",
              "       [2114.5408],\n",
              "       [1646.989 ],\n",
              "       [1503.7192],\n",
              "       [2228.051 ],\n",
              "       [2349.8997],\n",
              "       [1713.1464],\n",
              "       [2167.3835],\n",
              "       [1533.5339],\n",
              "       [2215.7444],\n",
              "       [1645.4392],\n",
              "       [1531.264 ],\n",
              "       [2165.2332],\n",
              "       [1778.613 ],\n",
              "       [1709.7751],\n",
              "       [1768.2189],\n",
              "       [1734.7725],\n",
              "       [1955.1725],\n",
              "       [1779.791 ],\n",
              "       [1536.5664],\n",
              "       [2292.984 ],\n",
              "       [1764.86  ],\n",
              "       [2284.0674],\n",
              "       [1866.0913],\n",
              "       [1948.3196],\n",
              "       [1946.0203],\n",
              "       [1754.4591],\n",
              "       [1691.0952]], dtype=float32)"
            ]
          },
          "metadata": {},
          "execution_count": 28
        }
      ]
    },
    {
      "cell_type": "markdown",
      "source": [
        "#####The new median housing price in 1000 USD from the optimized neural network model."
      ],
      "metadata": {
        "id": "saHFVjsKPHnO"
      }
    },
    {
      "cell_type": "markdown",
      "source": [
        "#####Further improvement:\n",
        "https://towardsdatascience.com/hyperparameter-tuning-with-keras-tuner-283474fbfbe\n",
        "\n",
        "#####Train, validate & test dataset\n",
        "https://towardsdatascience.com/train-validation-and-test-sets-72cb40cba9e7\n",
        "\n",
        "#####Note on ML & cleaning\n",
        "https://towardsdatascience.com/how-to-avoid-potential-machine-learning-pitfalls-a08781f3518e\n",
        "https://towardsdatascience.com/practical-guide-to-data-cleaning-in-python-f5334320e8e"
      ],
      "metadata": {
        "id": "g2x8btHhLLXU"
      }
    }
  ]
}